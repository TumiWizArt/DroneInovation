{
 "cells": [
  {
   "cell_type": "code",
   "execution_count": 6,
   "metadata": {},
   "outputs": [
    {
     "name": "stderr",
     "output_type": "stream",
     "text": [
      "c:\\Users\\walte\\AppData\\Local\\Programs\\Python\\Python312\\Lib\\site-packages\\fvcore\\common\\checkpoint.py:252: FutureWarning: You are using `torch.load` with `weights_only=False` (the current default value), which uses the default pickle module implicitly. It is possible to construct malicious pickle data which will execute arbitrary code during unpickling (See https://github.com/pytorch/pytorch/blob/main/SECURITY.md#untrusted-models for more details). In a future release, the default value for `weights_only` will be flipped to `True`. This limits the functions that could be executed during unpickling. Arbitrary objects will no longer be allowed to be loaded via this mode unless they are explicitly allowlisted by the user via `torch.serialization.add_safe_globals`. We recommend you start setting `weights_only=True` for any use case where you don't have full control of the loaded file. Please open an issue on GitHub for any issues related to this experimental feature.\n",
      "  return torch.load(f, map_location=torch.device(\"cpu\"))\n"
     ]
    },
    {
     "name": "stdout",
     "output_type": "stream",
     "text": [
      "Processed and saved to Dataset/after\\1 (1).jpg\n",
      "Processed and saved to Dataset/after\\1 (10).jpg\n",
      "Processed and saved to Dataset/after\\1 (11).jpg\n",
      "Processed and saved to Dataset/after\\1 (12).jpg\n",
      "Processed and saved to Dataset/after\\1 (13).jpg\n",
      "Processed and saved to Dataset/after\\1 (14).jpg\n",
      "Processed and saved to Dataset/after\\1 (15).jpg\n",
      "Processed and saved to Dataset/after\\1 (16).jpg\n",
      "Processed and saved to Dataset/after\\1 (17).jpg\n",
      "Processed and saved to Dataset/after\\1 (18).jpg\n",
      "Processed and saved to Dataset/after\\1 (19).jpg\n",
      "Processed and saved to Dataset/after\\1 (2).jpg\n",
      "Processed and saved to Dataset/after\\1 (20).jpg\n",
      "Processed and saved to Dataset/after\\1 (21).jpg\n",
      "Processed and saved to Dataset/after\\1 (22).jpg\n",
      "Processed and saved to Dataset/after\\1 (23).jpg\n",
      "Processed and saved to Dataset/after\\1 (24).jpg\n",
      "Processed and saved to Dataset/after\\1 (25).jpg\n",
      "Processed and saved to Dataset/after\\1 (26).jpg\n",
      "Processed and saved to Dataset/after\\1 (27).jpg\n",
      "Processed and saved to Dataset/after\\1 (28).jpg\n",
      "Processed and saved to Dataset/after\\1 (29).jpg\n",
      "Processed and saved to Dataset/after\\1 (3).jpg\n",
      "Processed and saved to Dataset/after\\1 (30).jpg\n",
      "Processed and saved to Dataset/after\\1 (4).jpg\n",
      "Processed and saved to Dataset/after\\1 (5).jpg\n",
      "Processed and saved to Dataset/after\\1 (6).jpg\n",
      "Processed and saved to Dataset/after\\1 (7).jpg\n",
      "Processed and saved to Dataset/after\\1 (8).jpg\n",
      "Processed and saved to Dataset/after\\1 (9).jpg\n",
      "Processed and saved to Dataset/after\\bad.jpg\n",
      "Processed and saved to Dataset/after\\good.jpg\n"
     ]
    }
   ],
   "source": [
    "import os\n",
    "import cv2\n",
    "from detectron2.engine import DefaultPredictor\n",
    "from detectron2.config import get_cfg\n",
    "from detectron2 import model_zoo\n",
    "from detectron2.utils.visualizer import Visualizer, ColorMode\n",
    "\n",
    "def load_model(model_weights=\"./output/model_final.pth\", device=\"cpu\"):\n",
    "    # Load Detectron2 model configuration\n",
    "    cfg = get_cfg()\n",
    "    cfg.merge_from_file(model_zoo.get_config_file(\"COCO-InstanceSegmentation/mask_rcnn_R_50_FPN_3x.yaml\"))\n",
    "    cfg.MODEL.ROI_HEADS.NUM_CLASSES = 2  # Update this to match your dataset's number of classes\n",
    "    cfg.MODEL.DEVICE = device  # Use \"cpu\" or \"cuda\" for GPU\n",
    "    cfg.MODEL.WEIGHTS = model_weights  # Path to the trained model\n",
    "    cfg.MODEL.ROI_HEADS.SCORE_THRESH_TEST = 0.7  # Set a custom threshold for predictions\n",
    "    cfg.INPUT.MIN_SIZE_TEST = 800\n",
    "    cfg.INPUT.MAX_SIZE_TEST = 1333\n",
    "    \n",
    "    return DefaultPredictor(cfg)\n",
    "\n",
    "def analyze_image(predictor, image_path):\n",
    "    # Load the image\n",
    "    im = cv2.imread(image_path)\n",
    "    outputs = predictor(im)\n",
    "    \n",
    "    # Visualize predictions\n",
    "    v = Visualizer(im[:, :, ::-1], \n",
    "                   scale=0.8, \n",
    "                   instance_mode=ColorMode.IMAGE_BW)  # Optionally change to IMAGE_BW for segmentation\n",
    "    v = v.draw_instance_predictions(outputs[\"instances\"].to(\"cpu\"))\n",
    "    processed_image = v.get_image()[:, :, ::-1]\n",
    "    \n",
    "    # Save processed image\n",
    "    after_dir = \"Dataset/after\"\n",
    "    if not os.path.exists(after_dir):\n",
    "        os.makedirs(after_dir)\n",
    "    processed_path = os.path.join(after_dir, os.path.basename(image_path))\n",
    "    \n",
    "    # Save the processed image only if it doesn't already exist\n",
    "    if not os.path.exists(processed_path):\n",
    "        cv2.imwrite(processed_path, processed_image)\n",
    "        print(f\"Processed and saved to {processed_path}\")\n",
    "    else:\n",
    "        print(f\"Image {processed_path} already exists. Skipping.\")\n",
    "    \n",
    "    return processed_path\n",
    "\n",
    "# Example usage\n",
    "if __name__ == \"__main__\":\n",
    "    model_weights = \"./output/model_final.pth\"  # Path to your trained model weights\n",
    "    predictor = load_model(model_weights=model_weights)\n",
    "    \n",
    "    # Directory containing images to analyze\n",
    "    before_dir = \"./Dataset/before\"\n",
    "    \n",
    "    # Analyze all images in the 'before' directory\n",
    "    for filename in os.listdir(before_dir):\n",
    "        if filename.lower().endswith(('.png', '.jpg', '.jpeg')):  # Check for image files\n",
    "            image_path = os.path.join(before_dir, filename)  # Full path to the image\n",
    "            analyze_image(predictor, image_path)\n"
   ]
  },
  {
   "cell_type": "code",
   "execution_count": null,
   "metadata": {},
   "outputs": [],
   "source": []
  }
 ],
 "metadata": {
  "kernelspec": {
   "display_name": "Python 3",
   "language": "python",
   "name": "python3"
  },
  "language_info": {
   "codemirror_mode": {
    "name": "ipython",
    "version": 3
   },
   "file_extension": ".py",
   "mimetype": "text/x-python",
   "name": "python",
   "nbconvert_exporter": "python",
   "pygments_lexer": "ipython3",
   "version": "3.12.4"
  }
 },
 "nbformat": 4,
 "nbformat_minor": 2
}
